{
  "nbformat": 4,
  "nbformat_minor": 0,
  "metadata": {
    "colab": {
      "name": "qiita_predict_titanic_on_ai-platform.ipynb",
      "provenance": []
    },
    "kernelspec": {
      "name": "python3",
      "display_name": "Python 3"
    }
  },
  "cells": [
    {
      "cell_type": "markdown",
      "metadata": {
        "id": "3dNWxFMsmkxL",
        "colab_type": "text"
      },
      "source": [
        "# AI-Platformを利用したTitanicデータ予測\n",
        "\n",
        "GCP の AI-Platform へモデルをデプロイし予測をします。\n",
        "※ 2020/02/12 時点での情報及び動作確認となります。"
      ]
    },
    {
      "cell_type": "markdown",
      "metadata": {
        "id": "ROiFVqym7HeB",
        "colab_type": "text"
      },
      "source": [
        "## GCP アカウント登録\n",
        "\n",
        "[【画像で説明】Google Cloud Platform (GCP)の無料トライアルでアカウント登録](https://qiita.com/komiya_____/items/14bd06d0866f182ae912)\n",
        "\n",
        "<br>\n"
      ]
    },
    {
      "cell_type": "markdown",
      "metadata": {
        "id": "d8d06EhB7ZmG",
        "colab_type": "text"
      },
      "source": [
        "<br>\n",
        "\n",
        "## Google Cloud SDK のインストール\n",
        "\n",
        "[Google Cloud SDK のインストール ~ 初期化](https://qiita.com/komiya_____/items/5af0dcc8639fad9fee29)"
      ]
    },
    {
      "cell_type": "markdown",
      "metadata": {
        "id": "AKzJ6-Yq7em_",
        "colab_type": "text"
      },
      "source": [
        "<br>\n",
        "\n",
        "## ログイン\n",
        "\n",
        "gcloud コマンドをつかって GCP をいじるための認証になります。"
      ]
    },
    {
      "cell_type": "code",
      "metadata": {
        "id": "g582dDWJ4YDL",
        "colab_type": "code",
        "outputId": "6d02cdfb-ac56-440c-81b8-dc9aa95f88c7",
        "colab": {
          "base_uri": "https://localhost:8080/",
          "height": 173
        }
      },
      "source": [
        "! gcloud auth login"
      ],
      "execution_count": 0,
      "outputs": [
        {
          "output_type": "stream",
          "text": [
            "Go to the following link in your browser:\n",
            "\n",
            "    https://accounts.google.com/o/oauth2/auth?code_challenge=Eftqw60jPIBCEwsg8jecxOuDp1zNN_kbmE6c-KtxbeE&prompt=select_account&code_challenge_method=S256&access_type=offline&redirect_uri=urn%3Aietf%3Awg%3Aoauth%3A2.0%3Aoob&response_type=code&client_id=32555940559.apps.googleusercontent.com&scope=https%3A%2F%2Fwww.googleapis.com%2Fauth%2Fuserinfo.email+https%3A%2F%2Fwww.googleapis.com%2Fauth%2Fcloud-platform+https%3A%2F%2Fwww.googleapis.com%2Fauth%2Fappengine.admin+https%3A%2F%2Fwww.googleapis.com%2Fauth%2Fcompute+https%3A%2F%2Fwww.googleapis.com%2Fauth%2Faccounts.reauth\n",
            "\n",
            "\n",
            "Enter verification code: 4/wgEezvqzjrdkmCGUYleODpqn6kVrOBT3Iid_NONAYX9Uj3WWLo0hJys\n",
            "\u001b[1;31mERROR:\u001b[0m There was a problem with web authentication.\n",
            "\u001b[1;31mERROR:\u001b[0m (gcloud.auth.login) invalid_grantInvalid code verifier.\n"
          ],
          "name": "stdout"
        }
      ]
    },
    {
      "cell_type": "markdown",
      "metadata": {
        "id": "wr0b-jAWik1m",
        "colab_type": "text"
      },
      "source": [
        "<br>\n",
        "\n",
        "# プロジェクト"
      ]
    },
    {
      "cell_type": "markdown",
      "metadata": {
        "id": "vSTXlXYU7j4Q",
        "colab_type": "text"
      },
      "source": [
        "\n",
        "\n",
        "## プロジェクト ID とプロジェクトネームを設定\n",
        "\n",
        "ID はカブり禁止です。"
      ]
    },
    {
      "cell_type": "code",
      "metadata": {
        "id": "dLVNK_fa5ort",
        "colab_type": "code",
        "colab": {}
      },
      "source": [
        "PROJECT_ID = 'watashino-pjid-a' #@param {type: \"string\"}\n",
        "PROJECT_NAME = 'watashino-pjname-a' #@param {type: \"string\"}"
      ],
      "execution_count": 0,
      "outputs": []
    },
    {
      "cell_type": "markdown",
      "metadata": {
        "id": "xvdvnMQ4ioG0",
        "colab_type": "text"
      },
      "source": [
        "<br>\n",
        "\n",
        "# 作成"
      ]
    },
    {
      "cell_type": "code",
      "metadata": {
        "id": "61EF4LeK6FDT",
        "colab_type": "code",
        "outputId": "5c71ed4b-03ca-40bd-edb6-ef9c1a4564c3",
        "colab": {
          "base_uri": "https://localhost:8080/",
          "height": 68
        }
      },
      "source": [
        "! gcloud projects create $PROJECT_ID \\\n",
        "--name $PROJECT_NAME"
      ],
      "execution_count": 0,
      "outputs": [
        {
          "output_type": "stream",
          "text": [
            "Create in progress for [https://cloudresourcemanager.googleapis.com/v1/projects/watashi-no-project-id-a].\n",
            "Enabling service [cloudapis.googleapis.com] on project [watashi-no-project-id-a]...\n",
            "Operation \"operations/acf.c17e02e4-6ad3-44e3-a8d5-dfa3adc990d1\" finished successfully.\n"
          ],
          "name": "stdout"
        }
      ]
    },
    {
      "cell_type": "markdown",
      "metadata": {
        "id": "Ywh3vWUyVTWo",
        "colab_type": "text"
      },
      "source": [
        "<br>\n",
        "\n",
        "## プロジェクトをアクティブに\n",
        "操作対象のプロジェクトに。"
      ]
    },
    {
      "cell_type": "code",
      "metadata": {
        "id": "ICYWmV3P6GXr",
        "colab_type": "code",
        "outputId": "c1bdbb48-7f03-4cb5-b2ab-a1dd7d16e690",
        "colab": {
          "base_uri": "https://localhost:8080/",
          "height": 34
        }
      },
      "source": [
        "! gcloud config set project $PROJECT_ID"
      ],
      "execution_count": 0,
      "outputs": [
        {
          "output_type": "stream",
          "text": [
            "Updated property [core/project].\n"
          ],
          "name": "stdout"
        }
      ]
    },
    {
      "cell_type": "markdown",
      "metadata": {
        "id": "oDq1hCWli25j",
        "colab_type": "text"
      },
      "source": [
        "<br>\n",
        "\n",
        "## 確認\n",
        "- project = watashi-no-project-id\n",
        "\n",
        "となっていればOK。"
      ]
    },
    {
      "cell_type": "code",
      "metadata": {
        "id": "gyod9inYi743",
        "colab_type": "code",
        "outputId": "53f6dada-cff5-441d-e08b-fd7e1ea2b3fe",
        "colab": {
          "base_uri": "https://localhost:8080/",
          "height": 153
        }
      },
      "source": [
        "! gcloud config list"
      ],
      "execution_count": 0,
      "outputs": [
        {
          "output_type": "stream",
          "text": [
            "[component_manager]\n",
            "disable_update_check = True\n",
            "[compute]\n",
            "gce_metadata_read_timeout_sec = 0\n",
            "[core]\n",
            "project = watashino-pjid-a\n",
            "\n",
            "Your active configuration is: [default]\n"
          ],
          "name": "stdout"
        }
      ]
    },
    {
      "cell_type": "markdown",
      "metadata": {
        "id": "rT34EyzeX34W",
        "colab_type": "text"
      },
      "source": [
        "<br>\n",
        "\n",
        "# リージョン、ゾーン、インタープリターを設定\n",
        "\n",
        "AI Platform のオンライン予測が使えるリージョンは以下。\n",
        "  - us-central1\n",
        "  - us-east1\n",
        "  - us-east4\n",
        "  - asia-northeast1\n",
        "  - europe-west1\n",
        "\n",
        "インタープリターはローカルトレーニング　 / 予測の際にpython３系を使うように指定。\n"
      ]
    },
    {
      "cell_type": "code",
      "metadata": {
        "id": "jLdl3ckLa58P",
        "colab_type": "code",
        "colab": {}
      },
      "source": [
        "REGION = 'us-central1' #@param {type: 'string'}\n",
        "ZONE = 'us-central1-a' #@param {type: 'string'}"
      ],
      "execution_count": 0,
      "outputs": []
    },
    {
      "cell_type": "code",
      "metadata": {
        "id": "442vToA8NZ-v",
        "colab_type": "code",
        "outputId": "be53283c-5a0d-48b2-e750-b2f156031270",
        "colab": {
          "base_uri": "https://localhost:8080/",
          "height": 68
        }
      },
      "source": [
        "! gcloud config set compute/region $REGION\n",
        "! gcloud config set compute/zone $ZONE\n",
        "! gcloud config set ml_engine/local_python $(which python3)"
      ],
      "execution_count": 0,
      "outputs": [
        {
          "output_type": "stream",
          "text": [
            "Updated property [compute/region].\n",
            "Updated property [compute/zone].\n",
            "Updated property [ml_engine/local_python].\n"
          ],
          "name": "stdout"
        }
      ]
    },
    {
      "cell_type": "markdown",
      "metadata": {
        "id": "vtN-cY_NjzbG",
        "colab_type": "text"
      },
      "source": [
        "<br>\n",
        "\n",
        "## 確認\n",
        "  - region = us-central1\n",
        "  - zone = us-central1-a\n",
        "  - local_python = /usr/bin/python3\n",
        "\n",
        "となっていればOK。"
      ]
    },
    {
      "cell_type": "code",
      "metadata": {
        "id": "lN_HDgqejv4m",
        "colab_type": "code",
        "outputId": "a2d112b5-cdb1-44b2-8330-555f7d59c2fe",
        "colab": {
          "base_uri": "https://localhost:8080/",
          "height": 238
        }
      },
      "source": [
        "! gcloud config list"
      ],
      "execution_count": 0,
      "outputs": [
        {
          "output_type": "stream",
          "text": [
            "[component_manager]\n",
            "disable_update_check = True\n",
            "[compute]\n",
            "gce_metadata_read_timeout_sec = 0\n",
            "region = us-central1\n",
            "zone = us-central1-a\n",
            "[core]\n",
            "account = edsa9654@gmail.com\n",
            "project = watashi-no-project-id-a\n",
            "[ml_engine]\n",
            "local_python = /usr/bin/python3\n",
            "\n",
            "Your active configuration is: [default]\n"
          ],
          "name": "stdout"
        }
      ]
    },
    {
      "cell_type": "markdown",
      "metadata": {
        "id": "ee9VEBfvcraW",
        "colab_type": "text"
      },
      "source": [
        "<br>\n",
        "\n",
        "# トレーニング用のコード一式をクローン"
      ]
    },
    {
      "cell_type": "code",
      "metadata": {
        "id": "8cj35lAYq7CI",
        "colab_type": "code",
        "outputId": "f5383c78-ac50-4d1d-8dcd-2da12f1b9e3f",
        "colab": {
          "base_uri": "https://localhost:8080/",
          "height": 136
        }
      },
      "source": [
        "! git clone https://github.com/komiyakomiyakomiya/titanic_prediction_on_gcp.git"
      ],
      "execution_count": 0,
      "outputs": [
        {
          "output_type": "stream",
          "text": [
            "Cloning into 'titanic_prediction_on_gcp'...\n",
            "remote: Enumerating objects: 143, done.\u001b[K\n",
            "remote: Counting objects: 100% (143/143), done.\u001b[K\n",
            "remote: Compressing objects: 100% (92/92), done.\u001b[K\n",
            "remote: Total 143 (delta 68), reused 117 (delta 42), pack-reused 0\u001b[K\n",
            "Receiving objects: 100% (143/143), 147.92 KiB | 1.30 MiB/s, done.\n",
            "Resolving deltas: 100% (68/68), done.\n"
          ],
          "name": "stdout"
        }
      ]
    },
    {
      "cell_type": "code",
      "metadata": {
        "id": "hmfjz4lbLy62",
        "colab_type": "code",
        "colab": {}
      },
      "source": [
        "# ! rm -r titanic_prediction_on_gcp/"
      ],
      "execution_count": 0,
      "outputs": []
    },
    {
      "cell_type": "markdown",
      "metadata": {
        "id": "_xmxVWIdXyhy",
        "colab_type": "text"
      },
      "source": [
        "<br>\n",
        "\n",
        "# modelを保存するディレクトリを作成"
      ]
    },
    {
      "cell_type": "code",
      "metadata": {
        "id": "sACvQA3BQqaD",
        "colab_type": "code",
        "colab": {}
      },
      "source": [
        "import os\n",
        "\n",
        "os.makedirs('./titanic_prediction_on_gcp/working/models/', exist_ok=True)"
      ],
      "execution_count": 0,
      "outputs": []
    },
    {
      "cell_type": "markdown",
      "metadata": {
        "id": "ddRvZlB5YS5R",
        "colab_type": "text"
      },
      "source": [
        "<br>\n",
        "\n",
        "# ローカルでトレーニング\n",
        "トレーニング後のモデルが `./titanic_prediction_on_gcp/working/models/model.pkl` として保存されます。"
      ]
    },
    {
      "cell_type": "code",
      "metadata": {
        "id": "2d5jpstcJD4u",
        "colab_type": "code",
        "outputId": "4a804d3c-26f6-49d1-80b8-ffcd740ec534",
        "colab": {
          "base_uri": "https://localhost:8080/",
          "height": 493
        }
      },
      "source": [
        "! gcloud ai-platform local train \\\n",
        "--package-path titanic_prediction_on_gcp/working/ \\\n",
        "--module-name working.predict_xgb "
      ],
      "execution_count": 0,
      "outputs": [
        {
          "output_type": "stream",
          "text": [
            "/content/titanic_prediction_on_gcp/working\n",
            "/usr/local/lib/python3.6/dist-packages/xgboost/core.py:587: FutureWarning: Series.base is deprecated and will be removed in a future version\n",
            "  if getattr(data, 'base', None) is not None and \\\n",
            "[0]\ttrain-logloss:0.557009\teval-logloss:0.616411\n",
            "Multiple eval metrics have been passed: 'eval-logloss' will be used for early stopping.\n",
            "\n",
            "Will train until eval-logloss hasn't improved in 10 rounds.\n",
            "[1]\ttrain-logloss:0.474548\teval-logloss:0.571008\n",
            "[2]\ttrain-logloss:0.422645\teval-logloss:0.550512\n",
            "[3]\ttrain-logloss:0.38807\teval-logloss:0.538894\n",
            "[4]\ttrain-logloss:0.364927\teval-logloss:0.542051\n",
            "[5]\ttrain-logloss:0.343597\teval-logloss:0.549628\n",
            "[6]\ttrain-logloss:0.332187\teval-logloss:0.560026\n",
            "[7]\ttrain-logloss:0.320152\teval-logloss:0.570064\n",
            "[8]\ttrain-logloss:0.309393\teval-logloss:0.584526\n",
            "[9]\ttrain-logloss:0.303566\teval-logloss:0.593687\n",
            "[10]\ttrain-logloss:0.296048\teval-logloss:0.601536\n",
            "[11]\ttrain-logloss:0.289636\teval-logloss:0.60886\n",
            "[12]\ttrain-logloss:0.28482\teval-logloss:0.619083\n",
            "[13]\ttrain-logloss:0.279284\teval-logloss:0.626983\n",
            "Stopping. Best iteration:\n",
            "[3]\ttrain-logloss:0.38807\teval-logloss:0.538894\n",
            "\n",
            "    importance\n",
            "f1    7.627978\n",
            "f0    0.677538\n",
            "##### acc_xgb #####\n",
            "86.34\n"
          ],
          "name": "stdout"
        }
      ]
    },
    {
      "cell_type": "markdown",
      "metadata": {
        "id": "9qjrwhNEhf43",
        "colab_type": "text"
      },
      "source": [
        "<br>\n",
        "\n",
        "# モデルをデプロイ"
      ]
    },
    {
      "cell_type": "markdown",
      "metadata": {
        "id": "T_f9mxNm9pYk",
        "colab_type": "text"
      },
      "source": [
        "# 請求先アカウントの設定\n",
        "バケットを作成するために必要になります。\n",
        "\n",
        "ここから設定\n",
        "\n",
        "<img width=\"995\" src=\"https://qiita-image-store.s3.ap-northeast-1.amazonaws.com/0/287998/d7f69423-b671-6816-e185-8b7ede2f7b5e.png\">\n",
        "\n",
        "以下のポップアップが出なければ、請求先アカウント設定済みなのでスキップしてOKです。\n",
        "\n",
        "<img width=\"876\" src=\"https://qiita-image-store.s3.ap-northeast-1.amazonaws.com/0/287998/14f33fa4-7da2-2b02-206e-5feb5ece3944.png\">\n",
        "\n",
        "<img width=\"878\" src=\"https://qiita-image-store.s3.ap-northeast-1.amazonaws.com/0/287998/72de2c43-4306-0b51-819b-66f407979281.png\">"
      ]
    },
    {
      "cell_type": "markdown",
      "metadata": {
        "id": "Tznbm1VwUR9O",
        "colab_type": "text"
      },
      "source": [
        "<br>\n",
        "\n",
        "## バケットの作成\n",
        "保存したモデルをアップロードするため、GCSにバケットを作ります。\n",
        "※ 請求先アカウントを設定していないと403エラーになります。"
      ]
    },
    {
      "cell_type": "code",
      "metadata": {
        "id": "6-8k3kQ7S2kd",
        "colab_type": "code",
        "colab": {}
      },
      "source": [
        "BUCKET_NAME = 'watashi-no-bucket-name-a' #@param {type: 'string'}"
      ],
      "execution_count": 0,
      "outputs": []
    },
    {
      "cell_type": "code",
      "metadata": {
        "id": "y5mJqt4dSkXL",
        "colab_type": "code",
        "outputId": "b73c52ed-048b-4a06-d23b-9c572acf5234",
        "colab": {
          "base_uri": "https://localhost:8080/",
          "height": 34
        }
      },
      "source": [
        "! gsutil mb -l $REGION gs://$BUCKET_NAME"
      ],
      "execution_count": 0,
      "outputs": [
        {
          "output_type": "stream",
          "text": [
            "Creating gs://watashi-no-bucket-name-a/...\n"
          ],
          "name": "stdout"
        }
      ]
    },
    {
      "cell_type": "code",
      "metadata": {
        "id": "bdMxH-E1MLov",
        "colab_type": "code",
        "outputId": "6a4a31ae-1ee8-4292-fcb6-b2f19ef00705",
        "colab": {
          "base_uri": "https://localhost:8080/",
          "height": 34
        }
      },
      "source": [
        "! gsutil ls -la"
      ],
      "execution_count": 0,
      "outputs": [
        {
          "output_type": "stream",
          "text": [
            "gs://watashi-no-bucket-name/\n"
          ],
          "name": "stdout"
        }
      ]
    },
    {
      "cell_type": "code",
      "metadata": {
        "id": "-EvsDMuvZYQT",
        "colab_type": "code",
        "outputId": "4ed01d14-d7ab-44ca-eb60-42e9f4a22073",
        "colab": {
          "base_uri": "https://localhost:8080/",
          "height": 68
        }
      },
      "source": [
        "! gsutil cp './titanic_prediction_on_gcp/working/models/model.pkl' gs://$BUCKET_NAME/models/model.pkl"
      ],
      "execution_count": 0,
      "outputs": [
        {
          "output_type": "stream",
          "text": [
            "Copying file://./titanic_prediction_on_gcp/working/models/model.pkl [Content-Type=application/octet-stream]...\n",
            "/ [1 files][ 12.8 KiB/ 12.8 KiB]                                                \n",
            "Operation completed over 1 objects/12.8 KiB.                                     \n"
          ],
          "name": "stdout"
        }
      ]
    },
    {
      "cell_type": "code",
      "metadata": {
        "id": "d0s_8FsXaO99",
        "colab_type": "code",
        "outputId": "2d340090-f19e-4469-f963-010ee15d4cc9",
        "colab": {
          "base_uri": "https://localhost:8080/",
          "height": 34
        }
      },
      "source": [
        "! gsutil ls gs://$BUCKET_NAME/models/"
      ],
      "execution_count": 0,
      "outputs": [
        {
          "output_type": "stream",
          "text": [
            "gs://watashi-no-bucket-name-a/models/model.pkl\n"
          ],
          "name": "stdout"
        }
      ]
    },
    {
      "cell_type": "markdown",
      "metadata": {
        "id": "YnEHz68VxxKw",
        "colab_type": "text"
      },
      "source": [
        "## APIを有効化\n",
        "AI-Platform APIを使うための設定。\n",
        "以下の２つを有効化。\n",
        "\n",
        "  - ml.googleapis.com\n",
        "  - compute.googleapis.com\n",
        "\n"
      ]
    },
    {
      "cell_type": "code",
      "metadata": {
        "id": "pDN0VdD7hoO3",
        "colab_type": "code",
        "colab": {}
      },
      "source": [
        "! gcloud services enable ml.googleapis.com\n",
        "! gcloud services enable compute.googleapis.com"
      ],
      "execution_count": 0,
      "outputs": []
    },
    {
      "cell_type": "markdown",
      "metadata": {
        "id": "duP0aR17k11B",
        "colab_type": "text"
      },
      "source": [
        "<br>\n",
        "\n",
        "## 確認\n",
        "  - compute.googleapis.com            Compute Engine API\n",
        "  - ml.googleapis.com                 AI Platform Training & Prediction API\n",
        "\n",
        "があればOK。"
      ]
    },
    {
      "cell_type": "code",
      "metadata": {
        "id": "IEQ2T1X8iCET",
        "colab_type": "code",
        "outputId": "d11dd812-1148-4da5-be6b-44bc08226731",
        "colab": {
          "base_uri": "https://localhost:8080/",
          "height": 306
        }
      },
      "source": [
        "! gcloud services list --enabled"
      ],
      "execution_count": 0,
      "outputs": [
        {
          "output_type": "stream",
          "text": [
            "NAME                              TITLE\n",
            "bigquery.googleapis.com           BigQuery API\n",
            "bigquerystorage.googleapis.com    BigQuery Storage API\n",
            "cloudapis.googleapis.com          Google Cloud APIs\n",
            "clouddebugger.googleapis.com      Stackdriver Debugger API\n",
            "cloudtrace.googleapis.com         Stackdriver Trace API\n",
            "compute.googleapis.com            Compute Engine API\n",
            "datastore.googleapis.com          Cloud Datastore API\n",
            "logging.googleapis.com            Stackdriver Logging API\n",
            "ml.googleapis.com                 AI Platform Training & Prediction API\n",
            "monitoring.googleapis.com         Stackdriver Monitoring API\n",
            "oslogin.googleapis.com            Cloud OS Login API\n",
            "servicemanagement.googleapis.com  Service Management API\n",
            "serviceusage.googleapis.com       Service Usage API\n",
            "sql-component.googleapis.com      Cloud SQL\n",
            "storage-api.googleapis.com        Google Cloud Storage JSON API\n",
            "storage-component.googleapis.com  Cloud Storage\n"
          ],
          "name": "stdout"
        }
      ]
    },
    {
      "cell_type": "markdown",
      "metadata": {
        "id": "iD0VMWobQK7K",
        "colab_type": "text"
      },
      "source": [
        "# サービスアカウント"
      ]
    },
    {
      "cell_type": "code",
      "metadata": {
        "id": "8NnGe2u_QRYc",
        "colab_type": "code",
        "outputId": "fa3c5a8d-c7b6-4691-9d8f-a93a9ffafd86",
        "colab": {
          "base_uri": "https://localhost:8080/",
          "height": 34
        }
      },
      "source": [
        "SERVICE_ACCOUNT_NAME = 'watashino-service-account-name' #@param {type: 'string'}\n",
        "SEFVICE_ACCOUNT_DISPLAY_NAME = 'watashino--service-account-display-name' #@param {type: 'string'}\n",
        "\n",
        "! gcloud iam service-accounts create $SERVICE_ACCOUNT_NAME \\\n",
        "--display-name $SEFVICE_ACCOUNT_DISPLAY_NAME"
      ],
      "execution_count": 0,
      "outputs": [
        {
          "output_type": "stream",
          "text": [
            "Created service account [watashino-service-account-name].\n"
          ],
          "name": "stdout"
        }
      ]
    },
    {
      "cell_type": "code",
      "metadata": {
        "id": "eYYLocQH5gdh",
        "colab_type": "code",
        "outputId": "ab5556bc-81df-4b7f-a4d1-0fb75640fc84",
        "colab": {
          "base_uri": "https://localhost:8080/",
          "height": 54
        }
      },
      "source": [
        "! gcloud projects get-iam-policy watashi-no-project-a"
      ],
      "execution_count": 0,
      "outputs": [
        {
          "output_type": "stream",
          "text": [
            "\u001b[1;31mERROR:\u001b[0m (gcloud.projects.get-iam-policy) User [edsa9654@gmail.com] does not have permission to access project [watashi-no-project-a:getIamPolicy] (or it may not exist): The caller does not have permission\n"
          ],
          "name": "stdout"
        }
      ]
    },
    {
      "cell_type": "markdown",
      "metadata": {
        "id": "8BsYadhDwJJQ",
        "colab_type": "text"
      },
      "source": [
        "<br>\n",
        "\n",
        "## モデルリソース / バージョンリソースの作成\n",
        "モデルリソースとバージョンリソースを作成し、アップロードしたmodel.pklと紐付けます。"
      ]
    },
    {
      "cell_type": "code",
      "metadata": {
        "id": "3VhajwUxuwpg",
        "colab_type": "code",
        "colab": {}
      },
      "source": [
        "MODEL_NAME = 'model_xgb' #@param {type: 'string'}\n",
        "MODEL_VERSION = 'v1' #@param {type: 'string'}"
      ],
      "execution_count": 0,
      "outputs": []
    },
    {
      "cell_type": "code",
      "metadata": {
        "id": "-jAhzINAddyK",
        "colab_type": "code",
        "outputId": "b3dd4e04-afbf-4065-afb5-b3016c10527a",
        "colab": {
          "base_uri": "https://localhost:8080/",
          "height": 34
        }
      },
      "source": [
        "! gcloud ai-platform models create $MODEL_NAME \\\n",
        "--regions $REGION"
      ],
      "execution_count": 0,
      "outputs": [
        {
          "output_type": "stream",
          "text": [
            "Created ml engine model [projects/watashi-no-project-id-a/models/model_xgb].\n"
          ],
          "name": "stdout"
        }
      ]
    },
    {
      "cell_type": "code",
      "metadata": {
        "id": "HHqhZMleSEtA",
        "colab_type": "code",
        "colab": {}
      },
      "source": [
        ""
      ],
      "execution_count": 0,
      "outputs": []
    },
    {
      "cell_type": "code",
      "metadata": {
        "id": "Pt32Y57B02-D",
        "colab_type": "code",
        "outputId": "1d11eb29-3c8b-43eb-c87c-b074718b4570",
        "colab": {
          "base_uri": "https://localhost:8080/",
          "height": 153
        }
      },
      "source": [
        "! gcloud ai-platform versions create $VERSION_NAME \\\n",
        "  --model $MODEL_NAME \\\n",
        "  --origin gs://$BUCKET_NAME/models/ \\\n",
        "  --runtime-version 1.14 \\\n",
        "  --framework xgboost \\\n",
        "  --python-version 3.5"
      ],
      "execution_count": 0,
      "outputs": [
        {
          "output_type": "stream",
          "text": [
            "\u001b[1;31mERROR:\u001b[0m (gcloud.ai-platform.versions.create) argument --model: expected one argument\n",
            "Usage: gcloud ai-platform versions create VERSION --model=MODEL [optional flags]\n",
            "  optional flags may be  --async | --config | --description | --framework |\n",
            "                         --help | --labels | --origin | --python-version |\n",
            "                         --runtime-version | --staging-bucket\n",
            "\n",
            "For detailed information on this command and its flags, run:\n",
            "  gcloud ai-platform versions create --help\n"
          ],
          "name": "stdout"
        }
      ]
    },
    {
      "cell_type": "code",
      "metadata": {
        "id": "F0Piec2_mczi",
        "colab_type": "code",
        "outputId": "bed08401-c0af-4c30-f5fb-303f3739905d",
        "colab": {
          "base_uri": "https://localhost:8080/",
          "height": 68
        }
      },
      "source": [
        "from IPython.display import Image\n",
        "from IPython.display import display_png\n",
        "\n",
        "\n",
        "print('\\nあなたはタイタニックに乗ったら...')\n",
        "display_png(Image('/content/titanic_prediction_on_gcp/images/dead.png'))"
      ],
      "execution_count": 0,
      "outputs": [
        {
          "output_type": "stream",
          "text": [
            "\n",
            "あなたはタイタニックに乗ったら...\n"
          ],
          "name": "stdout"
        },
        {
          "output_type": "display_data",
          "data": {
            "image/png": "/content/titanic_prediction_on_gcp/images/dead.png"
          },
          "metadata": {
            "tags": []
          }
        }
      ]
    },
    {
      "cell_type": "code",
      "metadata": {
        "id": "OjkcUb7Mrog7",
        "colab_type": "code",
        "colab": {}
      },
      "source": [
        ""
      ],
      "execution_count": 0,
      "outputs": []
    }
  ]
}